{
 "cells": [
  {
   "cell_type": "markdown",
   "metadata": {
    "toc": "true"
   },
   "source": [
    "# Table of Contents\n",
    " <p>"
   ]
  },
  {
   "cell_type": "code",
   "execution_count": 1,
   "metadata": {
    "ExecuteTime": {
     "end_time": "2017-11-25T20:43:06.299466Z",
     "start_time": "2017-11-25T20:43:04.085554Z"
    }
   },
   "outputs": [
    {
     "name": "stdout",
     "output_type": "stream",
     "text": [
      "Requirement already satisfied: many_stop_words in /usr/local/lib/python3.6/site-packages\r\n"
     ]
    }
   ],
   "source": [
    "import numpy as np\n",
    "import pandas as pd\n",
    "import sys\n",
    "import time\n",
    "import pickle\n",
    "import glob\n",
    "import regex as re\n",
    "!pip3 install many_stop_words\n",
    "from many_stop_words import get_stop_words\n",
    "# stop_words = list(get_stop_words('en'))\n",
    "\n",
    "from nltk.tokenize import RegexpTokenizer\n",
    "import nltk\n",
    "lemma = nltk.wordnet.WordNetLemmatizer()\n",
    "from nltk.corpus import stopwords\n",
    "stop_words = list(set(stopwords.words('english')))"
   ]
  },
  {
   "cell_type": "code",
   "execution_count": 2,
   "metadata": {
    "ExecuteTime": {
     "end_time": "2017-11-25T20:43:17.147831Z",
     "start_time": "2017-11-25T20:43:06.301172Z"
    },
    "collapsed": true
   },
   "outputs": [],
   "source": [
    "# obtain df\n",
    "files = glob.glob('/Users/jooppascha/Desktop/panda_pickles/*.p')\n",
    "dfs = []\n",
    "for f in files:\n",
    "    dfs.append(pd.read_pickle(f))\n",
    "df = pd.concat(dfs)"
   ]
  },
  {
   "cell_type": "code",
   "execution_count": 3,
   "metadata": {
    "ExecuteTime": {
     "end_time": "2017-11-25T20:43:17.181064Z",
     "start_time": "2017-11-25T20:43:17.149886Z"
    }
   },
   "outputs": [
    {
     "name": "stdout",
     "output_type": "stream",
     "text": [
      "unique_rows:  4450000\n"
     ]
    },
    {
     "data": {
      "text/html": [
       "<div>\n",
       "<style scoped>\n",
       "    .dataframe tbody tr th:only-of-type {\n",
       "        vertical-align: middle;\n",
       "    }\n",
       "\n",
       "    .dataframe tbody tr th {\n",
       "        vertical-align: top;\n",
       "    }\n",
       "\n",
       "    .dataframe thead th {\n",
       "        text-align: right;\n",
       "    }\n",
       "</style>\n",
       "<table border=\"1\" class=\"dataframe\">\n",
       "  <thead>\n",
       "    <tr style=\"text-align: right;\">\n",
       "      <th></th>\n",
       "      <th>uri</th>\n",
       "      <th>subject</th>\n",
       "      <th>content</th>\n",
       "      <th>bestanswer</th>\n",
       "      <th>cat</th>\n",
       "      <th>maincat</th>\n",
       "      <th>subcat</th>\n",
       "      <th>document_type</th>\n",
       "      <th>language</th>\n",
       "    </tr>\n",
       "  </thead>\n",
       "  <tbody>\n",
       "    <tr>\n",
       "      <th>0</th>\n",
       "      <td>1426578</td>\n",
       "      <td>whats your use now?</td>\n",
       "      <td></td>\n",
       "      <td>who is using you and why , you must answer tha...</td>\n",
       "      <td>Adolescent</td>\n",
       "      <td>Pregnancy &amp; Parenting</td>\n",
       "      <td>Pregnancy &amp; Parenting</td>\n",
       "      <td>wisdom</td>\n",
       "      <td>en-us</td>\n",
       "    </tr>\n",
       "    <tr>\n",
       "      <th>1</th>\n",
       "      <td>2520968</td>\n",
       "      <td>How to make a women have sex with you?</td>\n",
       "      <td></td>\n",
       "      <td>In your case it would require a lot of alcohol...</td>\n",
       "      <td>Other - Family &amp; Relationships</td>\n",
       "      <td>Family &amp; Relationships</td>\n",
       "      <td>Family &amp; Relationships</td>\n",
       "      <td>wisdom</td>\n",
       "      <td>en-us</td>\n",
       "    </tr>\n",
       "    <tr>\n",
       "      <th>2</th>\n",
       "      <td>795241</td>\n",
       "      <td>hey how to have an account with google?</td>\n",
       "      <td>................i mean i need an gmail account</td>\n",
       "      <td>hey thats why am there, so sweet kiram just ma...</td>\n",
       "      <td>My Yahoo!</td>\n",
       "      <td>Yahoo! Products</td>\n",
       "      <td>Yahoo! Products</td>\n",
       "      <td>wisdom</td>\n",
       "      <td>en-us</td>\n",
       "    </tr>\n",
       "    <tr>\n",
       "      <th>3</th>\n",
       "      <td>2404030</td>\n",
       "      <td>What do you think?</td>\n",
       "      <td>What's your opinion of this picture, FYI it is...</td>\n",
       "      <td>looks cool, strange colours though.</td>\n",
       "      <td>Astronomy &amp; Space</td>\n",
       "      <td>Science &amp; Mathematics</td>\n",
       "      <td>Science &amp; Mathematics</td>\n",
       "      <td>wisdom</td>\n",
       "      <td>en-us</td>\n",
       "    </tr>\n",
       "    <tr>\n",
       "      <th>4</th>\n",
       "      <td>2040432</td>\n",
       "      <td>Is it possible for it to last and does long di...</td>\n",
       "      <td>ME and my boyfriend have been talking for abou...</td>\n",
       "      <td>Overseas Relationships are really hard to keep...</td>\n",
       "      <td>Other - Family &amp; Relationships</td>\n",
       "      <td>Family &amp; Relationships</td>\n",
       "      <td>Family &amp; Relationships</td>\n",
       "      <td>wisdom</td>\n",
       "      <td>en-us</td>\n",
       "    </tr>\n",
       "  </tbody>\n",
       "</table>\n",
       "</div>"
      ],
      "text/plain": [
       "       uri                                            subject  \\\n",
       "0  1426578                                whats your use now?   \n",
       "1  2520968             How to make a women have sex with you?   \n",
       "2   795241            hey how to have an account with google?   \n",
       "3  2404030                                 What do you think?   \n",
       "4  2040432  Is it possible for it to last and does long di...   \n",
       "\n",
       "                                             content  \\\n",
       "0                                                      \n",
       "1                                                      \n",
       "2     ................i mean i need an gmail account   \n",
       "3  What's your opinion of this picture, FYI it is...   \n",
       "4  ME and my boyfriend have been talking for abou...   \n",
       "\n",
       "                                          bestanswer  \\\n",
       "0  who is using you and why , you must answer tha...   \n",
       "1  In your case it would require a lot of alcohol...   \n",
       "2  hey thats why am there, so sweet kiram just ma...   \n",
       "3                looks cool, strange colours though.   \n",
       "4  Overseas Relationships are really hard to keep...   \n",
       "\n",
       "                              cat                 maincat  \\\n",
       "0                      Adolescent   Pregnancy & Parenting   \n",
       "1  Other - Family & Relationships  Family & Relationships   \n",
       "2                       My Yahoo!         Yahoo! Products   \n",
       "3               Astronomy & Space   Science & Mathematics   \n",
       "4  Other - Family & Relationships  Family & Relationships   \n",
       "\n",
       "                   subcat document_type language  \n",
       "0   Pregnancy & Parenting        wisdom    en-us  \n",
       "1  Family & Relationships        wisdom    en-us  \n",
       "2         Yahoo! Products        wisdom    en-us  \n",
       "3   Science & Mathematics        wisdom    en-us  \n",
       "4  Family & Relationships        wisdom    en-us  "
      ]
     },
     "execution_count": 3,
     "metadata": {},
     "output_type": "execute_result"
    }
   ],
   "source": [
    "# obtain dataframe statistics\n",
    "print('unique_rows: ', len(df))\n",
    "df.head()"
   ]
  },
  {
   "cell_type": "code",
   "execution_count": 4,
   "metadata": {
    "ExecuteTime": {
     "end_time": "2017-11-25T20:43:23.345228Z",
     "start_time": "2017-11-25T20:43:17.183530Z"
    },
    "collapsed": true
   },
   "outputs": [],
   "source": [
    "# selection criteria\n",
    "min_character_len = 3\n",
    "is_long_enough = (df.subject.str.len() >= min_character_len) & (df.bestanswer.str.len() >= min_character_len) \n",
    "has_no_content = (df.content.str.len() == 0) | (df.content == df.subject)\n",
    "df = df[is_long_enough & has_no_content]"
   ]
  },
  {
   "cell_type": "code",
   "execution_count": 5,
   "metadata": {
    "ExecuteTime": {
     "end_time": "2017-11-25T20:43:23.353229Z",
     "start_time": "2017-11-25T20:43:23.347240Z"
    },
    "collapsed": true
   },
   "outputs": [],
   "source": [
    "# smiley regex\n",
    "eyes, noses, mouths = r\":;8BX=\", r\"-~'^\", r\")(/\\|DP\"\n",
    "pattern1 = \"[%s][%s]?[%s]\" % tuple(map(re.escape, [eyes, noses, mouths]))\n",
    "\n",
    "smileys = \"\"\":-) :) :o) :] :3 :c) :> =] 8) =) :} :^) \n",
    "     :D 8-D 8D x-D xD X-D XD =-D =D =-3 =3 B^D\"\"\".split()\n",
    "pattern2 = \"|\".join(map(re.escape, smileys))"
   ]
  },
  {
   "cell_type": "code",
   "execution_count": 6,
   "metadata": {
    "ExecuteTime": {
     "end_time": "2017-11-25T20:56:34.834152Z",
     "start_time": "2017-11-25T20:43:23.355303Z"
    }
   },
   "outputs": [
    {
     "name": "stdout",
     "output_type": "stream",
     "text": [
      "99.9615696201992763"
     ]
    }
   ],
   "source": [
    "tokenizer = RegexpTokenizer(r'\\w+')\n",
    "# reg_nums = re.compile(r\"[+-]?\\d+(?:\\.\\d+)?(?:[eE][+-]?\\d+)?\")\n",
    "\n",
    "def pre_processing(string):\n",
    "    # replace email adresses\n",
    "    match = re.findall(r'[\\w\\.-]+@[\\w\\.-]+', string)\n",
    "    for i in match:\n",
    "        string = string.replace(i, ' email ')\n",
    "    \n",
    "    # replace any url\n",
    "    string = re.sub('http[s]?://(?:[a-zA-Z]|[0-9]|[$-_@.&+]|[!*\\(\\),]|(?:%[0-9a-fA-F][0-9a-fA-F]))+', ' link ', string)\n",
    "\n",
    "    # remove tab characters\n",
    "    string = string.strip()\n",
    "    \n",
    "    # replace smiley \n",
    "    string = re.sub(pattern1, 'smiley', string)\n",
    "    string = re.sub(pattern2, 'smiley', string)\n",
    "    \n",
    "    # replace price\n",
    "    string = re.sub(r'(USD|EUR|€|\\$)\\s?(\\d{1,3}(?:[.,]\\d{3})*(?:[.,]\\d{2}))|(\\d{1,3}(?:[.,]\\d{3})*(?:[.,]\\d{2})?)\\s?(USD|EUR|€|\\$)', ' price ', string, flags=re.MULTILINE)\n",
    "    \n",
    "    # to lowercase\n",
    "    string = string.lower()\n",
    "\n",
    "    # replace year\n",
    "    string = re.sub('[0-9][0-9][0-9][0-9]', ' year ', string, flags=re.MULTILINE)\n",
    "    \n",
    "    # match numbers\n",
    "    string = re.sub(r\"[+-]?\\d+(?:\\.\\d+)?(?:[eE][+-]?\\d+)?\", ' number ', string, flags=re.MULTILINE)\n",
    "    \n",
    "    # remove non-words\n",
    "    tokens = tokenizer.tokenize(string) \n",
    "    filtered_words = [t for t in tokens if t not in stop_words]\n",
    "\n",
    "    string = ' '.join([lemma.lemmatize(t) for t in filtered_words])\n",
    "    \n",
    "    string = string.strip()\n",
    "    return string\n",
    "\n",
    "bestanswer = df.bestanswer.values\n",
    "subject = df.subject.values\n",
    "\n",
    "bestanswer_preprocessed = bestanswer.copy()\n",
    "subject_preprocessed = subject.copy()\n",
    "\n",
    "total_string = len(subject_preprocessed)\n",
    "for i in range(len(bestanswer)):\n",
    "    bestanswer_preprocessed[i] = pre_processing(bestanswer[i])\n",
    "    subject_preprocessed[i] = pre_processing(subject[i])\n",
    "    \n",
    "    if i % 1000 == 0:\n",
    "        sys.stdout.write(\"\\r\" + str((i/total_string)*100))"
   ]
  },
  {
   "cell_type": "code",
   "execution_count": 7,
   "metadata": {
    "ExecuteTime": {
     "end_time": "2017-11-25T20:56:36.365157Z",
     "start_time": "2017-11-25T20:56:34.835973Z"
    },
    "collapsed": true
   },
   "outputs": [],
   "source": [
    "df['bestanswer_preprocessed'] = bestanswer_preprocessed\n",
    "df['subject_preprocessed'] = subject_preprocessed"
   ]
  },
  {
   "cell_type": "code",
   "execution_count": 9,
   "metadata": {
    "ExecuteTime": {
     "end_time": "2017-11-25T20:56:58.733127Z",
     "start_time": "2017-11-25T20:56:56.090296Z"
    },
    "collapsed": true
   },
   "outputs": [],
   "source": [
    "min_character_len = 3\n",
    "is_long_enough = (df.bestanswer_preprocessed.str.len() >= min_character_len) & (df.subject_preprocessed.str.len() >= min_character_len) \n",
    "df = df[is_long_enough]"
   ]
  },
  {
   "cell_type": "code",
   "execution_count": 10,
   "metadata": {
    "ExecuteTime": {
     "end_time": "2017-11-25T20:57:13.975966Z",
     "start_time": "2017-11-25T20:57:02.593140Z"
    },
    "collapsed": true
   },
   "outputs": [],
   "source": [
    "df.to_pickle('preprocessing.p')"
   ]
  },
  {
   "cell_type": "code",
   "execution_count": 12,
   "metadata": {
    "ExecuteTime": {
     "end_time": "2017-11-25T20:57:23.687131Z",
     "start_time": "2017-11-25T20:57:23.668502Z"
    }
   },
   "outputs": [
    {
     "data": {
      "text/html": [
       "<div>\n",
       "<style scoped>\n",
       "    .dataframe tbody tr th:only-of-type {\n",
       "        vertical-align: middle;\n",
       "    }\n",
       "\n",
       "    .dataframe tbody tr th {\n",
       "        vertical-align: top;\n",
       "    }\n",
       "\n",
       "    .dataframe thead th {\n",
       "        text-align: right;\n",
       "    }\n",
       "</style>\n",
       "<table border=\"1\" class=\"dataframe\">\n",
       "  <thead>\n",
       "    <tr style=\"text-align: right;\">\n",
       "      <th></th>\n",
       "      <th>uri</th>\n",
       "      <th>subject</th>\n",
       "      <th>content</th>\n",
       "      <th>bestanswer</th>\n",
       "      <th>cat</th>\n",
       "      <th>maincat</th>\n",
       "      <th>subcat</th>\n",
       "      <th>document_type</th>\n",
       "      <th>language</th>\n",
       "      <th>bestanswer_preprocessed</th>\n",
       "      <th>subject_preprocessed</th>\n",
       "    </tr>\n",
       "  </thead>\n",
       "  <tbody>\n",
       "    <tr>\n",
       "      <th>0</th>\n",
       "      <td>1426578</td>\n",
       "      <td>whats your use now?</td>\n",
       "      <td></td>\n",
       "      <td>who is using you and why , you must answer tha...</td>\n",
       "      <td>Adolescent</td>\n",
       "      <td>Pregnancy &amp; Parenting</td>\n",
       "      <td>Pregnancy &amp; Parenting</td>\n",
       "      <td>wisdom</td>\n",
       "      <td>en-us</td>\n",
       "      <td>using must answer question good good secretary...</td>\n",
       "      <td>whats use</td>\n",
       "    </tr>\n",
       "    <tr>\n",
       "      <th>1</th>\n",
       "      <td>2520968</td>\n",
       "      <td>How to make a women have sex with you?</td>\n",
       "      <td></td>\n",
       "      <td>In your case it would require a lot of alcohol...</td>\n",
       "      <td>Other - Family &amp; Relationships</td>\n",
       "      <td>Family &amp; Relationships</td>\n",
       "      <td>Family &amp; Relationships</td>\n",
       "      <td>wisdom</td>\n",
       "      <td>en-us</td>\n",
       "      <td>case would require lot alcohol rope</td>\n",
       "      <td>make woman sex</td>\n",
       "    </tr>\n",
       "    <tr>\n",
       "      <th>6</th>\n",
       "      <td>4339568</td>\n",
       "      <td>how do you set up mics on Logic Pro?</td>\n",
       "      <td></td>\n",
       "      <td>I dnt knw but when you find out please tell me...</td>\n",
       "      <td>Other - Entertainment</td>\n",
       "      <td>Entertainment &amp; Music</td>\n",
       "      <td>Entertainment &amp; Music</td>\n",
       "      <td>wisdom</td>\n",
       "      <td>en-us</td>\n",
       "      <td>dnt knw find please tell lol im going thru pro...</td>\n",
       "      <td>set mics logic pro</td>\n",
       "    </tr>\n",
       "    <tr>\n",
       "      <th>9</th>\n",
       "      <td>2395756</td>\n",
       "      <td>MYSPACE HELP~Does anyone know where to find th...</td>\n",
       "      <td></td>\n",
       "      <td>Just be very careful.Alot of stalkers and weir...</td>\n",
       "      <td>Computer Networking</td>\n",
       "      <td>Computers &amp; Internet</td>\n",
       "      <td>Computers &amp; Internet</td>\n",
       "      <td>wisdom</td>\n",
       "      <td>en-us</td>\n",
       "      <td>careful alot stalker weirdo scan myspace blog ...</td>\n",
       "      <td>myspace help anyone know find little questiona...</td>\n",
       "    </tr>\n",
       "    <tr>\n",
       "      <th>11</th>\n",
       "      <td>278601</td>\n",
       "      <td>How much of a left wing liberal  imbecile do y...</td>\n",
       "      <td></td>\n",
       "      <td>People here are dancing around this question.....</td>\n",
       "      <td>Other - Politics &amp; Government</td>\n",
       "      <td>Politics &amp; Government</td>\n",
       "      <td>Politics &amp; Government</td>\n",
       "      <td>wisdom</td>\n",
       "      <td>en-us</td>\n",
       "      <td>people dancing around question vast majority l...</td>\n",
       "      <td>much left wing liberal imbecile believe number...</td>\n",
       "    </tr>\n",
       "  </tbody>\n",
       "</table>\n",
       "</div>"
      ],
      "text/plain": [
       "        uri                                            subject content  \\\n",
       "0   1426578                                whats your use now?           \n",
       "1   2520968             How to make a women have sex with you?           \n",
       "6   4339568               how do you set up mics on Logic Pro?           \n",
       "9   2395756  MYSPACE HELP~Does anyone know where to find th...           \n",
       "11   278601  How much of a left wing liberal  imbecile do y...           \n",
       "\n",
       "                                           bestanswer  \\\n",
       "0   who is using you and why , you must answer tha...   \n",
       "1   In your case it would require a lot of alcohol...   \n",
       "6   I dnt knw but when you find out please tell me...   \n",
       "9   Just be very careful.Alot of stalkers and weir...   \n",
       "11  People here are dancing around this question.....   \n",
       "\n",
       "                               cat                 maincat  \\\n",
       "0                       Adolescent   Pregnancy & Parenting   \n",
       "1   Other - Family & Relationships  Family & Relationships   \n",
       "6            Other - Entertainment   Entertainment & Music   \n",
       "9              Computer Networking    Computers & Internet   \n",
       "11   Other - Politics & Government   Politics & Government   \n",
       "\n",
       "                    subcat document_type language  \\\n",
       "0    Pregnancy & Parenting        wisdom    en-us   \n",
       "1   Family & Relationships        wisdom    en-us   \n",
       "6    Entertainment & Music        wisdom    en-us   \n",
       "9     Computers & Internet        wisdom    en-us   \n",
       "11   Politics & Government        wisdom    en-us   \n",
       "\n",
       "                              bestanswer_preprocessed  \\\n",
       "0   using must answer question good good secretary...   \n",
       "1                 case would require lot alcohol rope   \n",
       "6   dnt knw find please tell lol im going thru pro...   \n",
       "9   careful alot stalker weirdo scan myspace blog ...   \n",
       "11  people dancing around question vast majority l...   \n",
       "\n",
       "                                 subject_preprocessed  \n",
       "0                                           whats use  \n",
       "1                                      make woman sex  \n",
       "6                                  set mics logic pro  \n",
       "9   myspace help anyone know find little questiona...  \n",
       "11  much left wing liberal imbecile believe number...  "
      ]
     },
     "execution_count": 12,
     "metadata": {},
     "output_type": "execute_result"
    }
   ],
   "source": [
    "df.head()"
   ]
  }
 ],
 "metadata": {
  "hide_input": false,
  "kernelspec": {
   "display_name": "Python 3",
   "language": "python",
   "name": "python3"
  },
  "language_info": {
   "codemirror_mode": {
    "name": "ipython",
    "version": 3
   },
   "file_extension": ".py",
   "mimetype": "text/x-python",
   "name": "python",
   "nbconvert_exporter": "python",
   "pygments_lexer": "ipython3",
   "version": "3.6.0"
  },
  "toc": {
   "colors": {
    "hover_highlight": "#DAA520",
    "navigate_num": "#000000",
    "navigate_text": "#333333",
    "running_highlight": "#FF0000",
    "selected_highlight": "#FFD700",
    "sidebar_border": "#EEEEEE",
    "wrapper_background": "#FFFFFF"
   },
   "moveMenuLeft": true,
   "nav_menu": {
    "height": "12px",
    "width": "252px"
   },
   "navigate_menu": true,
   "number_sections": true,
   "sideBar": true,
   "threshold": 4,
   "toc_cell": true,
   "toc_section_display": "none",
   "toc_window_display": true,
   "widenNotebook": false
  },
  "varInspector": {
   "cols": {
    "lenName": 16,
    "lenType": 16,
    "lenVar": 40
   },
   "kernels_config": {
    "python": {
     "delete_cmd_postfix": "",
     "delete_cmd_prefix": "del ",
     "library": "var_list.py",
     "varRefreshCmd": "print(var_dic_list())"
    },
    "r": {
     "delete_cmd_postfix": ") ",
     "delete_cmd_prefix": "rm(",
     "library": "var_list.r",
     "varRefreshCmd": "cat(var_dic_list()) "
    }
   },
   "types_to_exclude": [
    "module",
    "function",
    "builtin_function_or_method",
    "instance",
    "_Feature"
   ],
   "window_display": false
  }
 },
 "nbformat": 4,
 "nbformat_minor": 2
}
